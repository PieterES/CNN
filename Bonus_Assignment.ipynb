{
  "nbformat": 4,
  "nbformat_minor": 0,
  "metadata": {
    "colab": {
      "provenance": [],
      "collapsed_sections": []
    },
    "kernelspec": {
      "name": "python3",
      "display_name": "Python 3"
    },
    "language_info": {
      "name": "python"
    }
  },
  "cells": [
    {
      "cell_type": "code",
      "execution_count": 1,
      "metadata": {
        "id": "yn8wdMDvE7Wi",
        "colab": {
          "base_uri": "https://localhost:8080/"
        },
        "outputId": "e0ae9dcf-e48f-49ac-dba1-4559f2e94706"
      },
      "outputs": [
        {
          "output_type": "stream",
          "name": "stdout",
          "text": [
            "Downloading data from https://www.cs.toronto.edu/~kriz/cifar-10-python.tar.gz\n",
            "170500096/170498071 [==============================] - 2s 0us/step\n",
            "170508288/170498071 [==============================] - 2s 0us/step\n",
            "Downloading data from https://storage.googleapis.com/tensorflow/tf-keras-datasets/mnist.npz\n",
            "11493376/11490434 [==============================] - 0s 0us/step\n",
            "11501568/11490434 [==============================] - 0s 0us/step\n"
          ]
        }
      ],
      "source": [
        "import numpy as np\n",
        "import math\n",
        "import random\n",
        "import matplotlib.pyplot as plt\n",
        "from tensorflow import keras\n",
        "from scipy import signal\n",
        "(x_train_c, y_train_c), (x_test_c, y_test_c) = keras.datasets.cifar10.load_data()\n",
        "(x_train_m, y_train_m), (x_test_m, y_test_m) = keras.datasets.mnist.load_data()"
      ]
    },
    {
      "cell_type": "code",
      "source": [
        "def submatrix(matrix, startRow, startCol, size):\n",
        "  return matrix[(startRow):(startRow+size), (startCol):(startCol+size)]"
      ],
      "metadata": {
        "id": "k6kh-FgAkdgW"
      },
      "execution_count": 2,
      "outputs": []
    },
    {
      "cell_type": "code",
      "source": [
        "def rotate_180(array, M, N, out):\n",
        "    for i in range(M):\n",
        "        for j in range(N):\n",
        "            out[i, N-1-j] = array[M-1-i, j]"
      ],
      "metadata": {
        "id": "auT9MprBNfSD"
      },
      "execution_count": 90,
      "outputs": []
    },
    {
      "cell_type": "code",
      "source": [
        "# Convololution function that takes either a single 2D or 3D image as input_matrix, and either a single kernel or \n",
        "# multiple kernels as input_kernels and returns a stack of feature maps equal to the amount of kernels.\n",
        "\n",
        "\n",
        "def Convolution(input_matrix, input_kernels, mode):\n",
        "\n",
        "# Checks whether a single kernel is used or multiple and changes the values used in the loops and output size accordingly.\n",
        "  if (input_kernels.ndim == 3):\n",
        "    kerneldepth = len(input_kernels)\n",
        "    kernel_size = len(input_kernels[0])\n",
        "  else:\n",
        "    kerneldepth = 1\n",
        "    kernel_size = len(input_kernels)\n",
        "\n",
        "# Checks whether a 2D or 3D image is used and changes the values used in the loops and output size accordingly.\n",
        "  if input_matrix.ndim == 2:\n",
        "    depth = 1\n",
        "    input_height, input_width = input_matrix.shape\n",
        "  else:\n",
        "    input_height, input_width, depth = input_matrix.shape\n",
        "\n",
        "# Creates empty arrays for the outputs\n",
        "  if mode == \"valid\":\n",
        "    final_output_size = (kerneldepth, input_height - kernel_size + 1, input_width - kernel_size + 1)\n",
        "    final_output = np.zeros(final_output_size)\n",
        "    output_shape = (input_height - kernel_size + 1, input_width - kernel_size + 1)\n",
        "    final_final_output = np.zeros(output_shape)\n",
        "  if mode == \"padded\":\n",
        "    final_output_size = (kerneldepth, input_height - kernel_size + 5, input_width - kernel_size + 5)\n",
        "    final_output = np.zeros(final_output_size)\n",
        "    output_shape = ((input_height - kernel_size) + 5, (input_width - kernel_size) + 5)\n",
        "    final_final_output = np.zeros(output_shape)\n",
        "\n",
        "# Loops over all the kernels and the depth of the image\n",
        "  for j in range(kerneldepth):\n",
        "    for i in range(depth):\n",
        "\n",
        "      # Selects kernel and image to be used\n",
        "      output = np.zeros(output_shape)\n",
        "      kernel = input_kernels[j]\n",
        "      if depth == 1:\n",
        "        image = input_matrix\n",
        "      else:\n",
        "          image = input_matrix[:,:,i]\n",
        "      Yimage, Ximage = image.shape\n",
        "      if mode == \"valid\":\n",
        "\n",
        "        new_image = np.zeros((input_height - kernel_size + 1, input_width - kernel_size + 1))\n",
        "      if (mode == \"padded\"):\n",
        "\n",
        "        output_image =  np.zeros((Yimage + 2, Ximage +2 ))\n",
        "        new_image = np.zeros((Yimage + 2, Ximage + 2))\n",
        "        for x in range(Ximage):\n",
        "          for y in range(Yimage):\n",
        "            new_image[x+1,y+1] = image[x,y]\n",
        "\n",
        "\n",
        "      # Loops over the image, selecting a submatrix and multiplying it with the kernel, adding tha result to the new image\n",
        "      for x in range(Ximage):\n",
        "        for y in range(Yimage):\n",
        "          if (x+kernel_size <= Ximage and y+kernel_size <= Yimage):\n",
        "            if mode == \"valid\":\n",
        "              sub = submatrix(image, x, y, kernel_size)\n",
        "            if mode == \"padded\":\n",
        "              sub = submatrix(new_image, x, y, kernel_size)\n",
        "            mulitply = np.multiply(kernel,sub)\n",
        "            add = np.sum(mulitply)\n",
        "            if mode == \"valid\":\n",
        "              new_image[x,y] = add\n",
        "            if mode == \"padded\":\n",
        "              output_image[x,y] = add\n",
        "      # Adds the multiple multiple feature maps of the 3D images into a single feature map\n",
        "      if mode == \"valid\":\n",
        "        output += new_image\n",
        "      if mode == \"padded\":\n",
        "        output += output_image\n",
        "    final_output[j] = output\n",
        "  if (kerneldepth == 1):\n",
        "    final_output = final_output[0]\n",
        "  return final_output"
      ],
      "metadata": {
        "id": "C7_EC4x5Fm-F"
      },
      "execution_count": 99,
      "outputs": []
    },
    {
      "cell_type": "code",
      "source": [
        "# Relu activation function that takes a single feature map as input and ensures that all negative numbers become 0\n",
        "# Returns the non-negative feature map\n",
        "\n",
        "def relu(input_matrix):  \n",
        "  output_shape = (input_matrix.shape[0], input_matrix.shape[1])\n",
        "  output = np.zeros(output_shape)\n",
        "  for i in range(input_matrix.shape[0]):\n",
        "    output[i] = np.maximum(0,input_matrix[i])\n",
        "  return output"
      ],
      "metadata": {
        "id": "kkw7yrDNSmMk"
      },
      "execution_count": 5,
      "outputs": []
    },
    {
      "cell_type": "code",
      "source": [
        "# Normalise function that takes a single feature map as input and outputs the normalised feature map. \n",
        "\n",
        "def normalize(input_matrix):\n",
        "  matrix = input_matrix\n",
        "  matrix = matrix - matrix.mean()\n",
        "  output = matrix/matrix.std()\n",
        "  return output"
      ],
      "metadata": {
        "id": "wCM-OZyWSsEV"
      },
      "execution_count": 6,
      "outputs": []
    },
    {
      "cell_type": "code",
      "source": [
        "# Fully-connected layer that takes a single matrix and output size as inputs, and outputs the weights and a final layer\n",
        "\n",
        "def dense_layer(matrix, outputsize):\n",
        "  flat = matrix.flatten()\n",
        "  weights = np.zeros((flat.size, outputsize))\n",
        "  layer = np.zeros((outputsize))\n",
        "\n",
        "  # Gives all the weights a random value between 0.1 and 0.2\n",
        "  for x in range(flat.size):\n",
        "    for y in range(outputsize):\n",
        "      weights[x,y] = random.uniform(0.1, 0.2)\n",
        "  \n",
        "  # Takes the dot product of the weights and the flattened input matrix\n",
        "  for i in range(outputsize):\n",
        "    layer[i] = np.dot(weights[:, i], flat)\n",
        "    \n",
        "  return weights, layer"
      ],
      "metadata": {
        "id": "mB0d8Ow3SzG7"
      },
      "execution_count": 7,
      "outputs": []
    },
    {
      "cell_type": "code",
      "source": [
        "# Softmax function that takes the output from the dense layer and returns the probabilities. \n",
        "# Converts the activation of the dense layer into probabilities \n",
        "\n",
        "def softmax(layer):\n",
        "  soft = np.exp(layer)/sum(np.exp(layer))\n",
        "  return soft"
      ],
      "metadata": {
        "id": "Audum7maS0Hr"
      },
      "execution_count": 8,
      "outputs": []
    },
    {
      "cell_type": "code",
      "source": [
        "# Code for one hot encoding, used by the the self-made convolutional neural network\n",
        "# in order to calculate the derivative of the input of the final layer.\n",
        "\n",
        "y_true = y_train_m\n",
        "total_numbers = [0,1,2,3,4,5,6,7,8,9]\n",
        "\n",
        "mapping = {}\n",
        "for x in range(len(total_numbers)):\n",
        "  mapping[total_numbers[x]] = x\n",
        "\n",
        "one_hot_encode = []\n",
        "\n",
        "for c in y_true:\n",
        "  arr = list(np.zeros(len(total_numbers), dtype = int))\n",
        "  arr[mapping[c]] = 1\n",
        "  one_hot_encode.append(arr)"
      ],
      "metadata": {
        "id": "ac3Bsdo8qP9J"
      },
      "execution_count": null,
      "outputs": []
    },
    {
      "cell_type": "code",
      "source": [
        "# Backpropagation function with the derivative of the filter in the next layer, the current layer inputs and current filter as inputs\n",
        "# and outputs the derivative of the filters in the current layer and the derivative of the input of the current layer. \n",
        "# The derivative of the filters of the current layer is used to update the filters while the derivative of teh current layer input is used\n",
        "# to backpropagate to the previous layer.\n",
        "\n",
        "def backpropagation(derivative_filters_next_layer, current_layer_input, current_filter):\n",
        "\n",
        "  # The kernel has to be rotated 180 degree to calculate the derivative of the current layer inputs, which is a padded version of the convolution operation.\n",
        "  rotated_kernel = current_filter.copy()\n",
        "  rotate_180(current_filter, 3, 3, rotated_kernel)\n",
        "  \n",
        "  # Uses the convolution operation to calculate the derivatives, one without padding for the derivative of the current layer and once padded for the derivative of the current input layer. \n",
        "  derivative_filters_current_layer = Convolution(current_layer_input, derivative_filters_next_layer, \"valid\")\n",
        "  derivative_current_layer_input = Convolution(derivative_filters_next_layer, rotated_kernel, \"padded\")\n",
        "\n",
        "  return derivative_filters_current_layer, derivative_current_layer_input"
      ],
      "metadata": {
        "id": "HJ75pIwrdgTB"
      },
      "execution_count": 93,
      "outputs": []
    },
    {
      "cell_type": "code",
      "source": [
        "# Fully-connected layer that takes a single matrix and output size as inputs, and outputs the weights and a final layer\n",
        "\n",
        "def dense_layer2(matrix, outputsize):\n",
        "  flat = matrix.flatten()\n",
        "  layer = np.zeros((outputsize))\n",
        "  \n",
        "  # Takes the dot product of the weights and the flattened input matrix\n",
        "  for i in range(outputsize):\n",
        "    layer[i] = np.dot(weights[:, i], flat)\n",
        "    \n",
        "  return layer"
      ],
      "metadata": {
        "id": "sbBpCG7ule7m"
      },
      "execution_count": 224,
      "outputs": []
    },
    {
      "cell_type": "code",
      "source": [
        "# Stochastic gradient descent\n",
        "# Random kernels\n",
        "first_layer_kernels = np.random.randn(3,3)\n",
        "second_layer_kernels = np.random.randn(3,3)\n",
        "\n",
        "# Preset kernels\n",
        "first_layer_kernels_vert = np.array([[-1,2,-1], [-1,2,-1],[-1,2,-1]])\n",
        "second_layer_kernels_horz = np.array([[-1,-1,-1], [2,2,2],[-1,-1,-1]])\n",
        "\n",
        "# Initalizing variables\n",
        "learning_rate = 0.01\n",
        "weight_der = np.zeros((576,10))\n",
        "correct = 0\n",
        "total_validation_correct = []\n",
        "epochs = 20\n",
        "train_batch = int(60000/ epochs)\n",
        "test_batch = int(10000/ epochs)\n",
        "total_correct = []\n",
        "\n",
        "# Initializing weights\n",
        "weights = np.zeros((576,10))\n",
        "for x in range(576):\n",
        "  for y in range(10):\n",
        "    weights[x,y] = random.uniform(0.1,0.2)\n",
        "\n",
        "# Start training convolutional neural network\n",
        "for j in range(epochs):\n",
        "  validation_correct = 0\n",
        "  correct = 0\n",
        "  for i in range(train_batch):\n",
        "    # Forward pass for training data\n",
        "    # For the sake of efficiency, the signal.correlate2d function is used here, but it does the exact same as our convolution function. \n",
        "    first_layer_output = signal.correlate2d(x_train_m[train_batch * j + i], first_layer_kernels_vert, \"valid\")\n",
        "    first_relu_layer = relu(first_layer_output)\n",
        "    first_norm_layer = normalize(first_relu_layer)\n",
        "\n",
        "    second_layer_output = signal.correlate2d(first_norm_layer, second_layer_kernels_horz, \"valid\")\n",
        "    second_relu_layer = relu(second_layer_output)\n",
        "    second_norm_layer = normalize(second_relu_layer)\n",
        "\n",
        "    dense_layer = dense_layer2(second_norm_layer, 10)\n",
        "    soft_layer = softmax(dense_layer)\n",
        "    der = soft_layer - one_hot_encode[train_batch * j + i]\n",
        "    if soft_layer.argmax() == y_train_m[train_batch * j + i]:\n",
        "      correct += 1\n",
        "\n",
        "    # Backwards pass, updating weights\n",
        "    weight_der = np.dot(second_norm_layer.reshape(-1,1), der.reshape(1,-1))\n",
        "    weights -= learning_rate * weight_der\n",
        "    input_derivatives = np.dot(weights, der.transpose())\n",
        "    \n",
        "    # Backpropagation of second layer, updating second layer filter\n",
        "    reshaped_input_derivatives = input_derivatives.reshape(24,24)\n",
        "    derivative_filters_current_layer, derivative_current_layer_input = backpropagation(reshaped_input_derivatives, first_norm_layer, second_layer_kernels)\n",
        "    second_layer_kernels -= learning_rate * derivative_filters_current_layer\n",
        "\n",
        "    # Backpropagation of first layer, updating first layer filter\n",
        "    derivative_filters_current_layer, derivative_current_layer_input = backpropagation(derivative_current_layer_input, x_train_m[train_batch * j + i], first_layer_kernels)\n",
        "    first_layer_kernels -= learning_rate * derivative_filters_current_layer\n",
        "\n",
        "  # Forward pass of test data\n",
        "  for i in range(test_batch):\n",
        "    test_first_layer_output = signal.correlate2d(x_test_m[test_batch * j + i], first_layer_kernels_vert, \"valid\")\n",
        "    test_first_relu_layer = relu(test_first_layer_output)\n",
        "    test_first_norm_layer = normalize(test_first_relu_layer)\n",
        "\n",
        "    test_second_layer_output = signal.correlate2d(test_first_norm_layer, second_layer_kernels_horz, \"valid\")\n",
        "    test_second_relu_layer = relu(test_second_layer_output)\n",
        "    test_second_norm_layer = normalize(test_second_relu_layer)\n",
        "\n",
        "    test_dense_layer = dense_layer2(test_second_norm_layer, 10)\n",
        "    test_soft_layer = softmax(test_dense_layer)\n",
        "    if test_soft_layer.argmax() == y_test_m[test_batch * j + i]:\n",
        "      validation_correct += 1\n",
        "  total_correct.append(correct)\n",
        "  total_validation_correct.append(validation_correct)"
      ],
      "metadata": {
        "id": "ELq7keqegcBG"
      },
      "execution_count": null,
      "outputs": []
    },
    {
      "cell_type": "code",
      "source": [
        "accuracy = [x / train_batch for x in total_correct]\n",
        "val_accuracy = [x / test_batch for x in total_validation_correct]\n",
        "plt.figure()\n",
        "plt.plot(accuracy, label=\"Training Accuracy\")\n",
        "plt.plot(val_accuracy, label=\"Validation Accuracy\")\n",
        "plt.legend()"
      ],
      "metadata": {
        "colab": {
          "base_uri": "https://localhost:8080/",
          "height": 283
        },
        "id": "RveL0tK7y3oV",
        "outputId": "27b3ec39-b060-444a-c3e5-ccf1506c767b"
      },
      "execution_count": 266,
      "outputs": [
        {
          "output_type": "execute_result",
          "data": {
            "text/plain": [
              "<matplotlib.legend.Legend at 0x7f49569496d0>"
            ]
          },
          "metadata": {},
          "execution_count": 266
        },
        {
          "output_type": "display_data",
          "data": {
            "text/plain": [
              "<Figure size 432x288 with 1 Axes>"
            ],
            "image/png": "[encoded data removed]"
          },
          "metadata": {
            "needs_background": "light"
          }
        }
      ]
    },
    {
      "cell_type": "code",
      "source": [
        "first_layer_kernels = np.random.randn(3,3)\n",
        "second_layer_kernels = np.random.randn(3,3)\n",
        "learning_rate = 0.0001"
      ],
      "metadata": {
        "id": "1qvzNH7EfSaB"
      },
      "execution_count": 166,
      "outputs": []
    },
    {
      "cell_type": "code",
      "source": [
        "# batch\n",
        "\n",
        "first_layer_output = []\n",
        "second_layer_output = []\n",
        "\n",
        "first_relu_layer = []\n",
        "second_relu_layer = []\n",
        "\n",
        "first_norm_layer = []\n",
        "second_norm_layer = []\n",
        "\n",
        "dense_layer = []\n",
        "soft_layer = []\n",
        "der = []\n",
        "\n",
        "input_gradient = []\n",
        "kernel_der = []\n",
        "der = []\n",
        "weight_der = np.zeros((576,10))\n",
        "\n",
        "\n",
        "index = 0\n",
        "correct = 0\n",
        "batch = 20\n",
        "\n",
        "training_data = x_train_m[0:batch]\n",
        "\n",
        "for i in range(batch):\n",
        "  first_layer_output.append(signal.correlate2d(x_train_m[i], first_layer_kernels, \"valid\"))\n",
        "  first_relu_layer.append(relu(first_layer_output[i]))\n",
        "  first_norm_layer.append(normalize(first_relu_layer[i]))\n",
        "\n",
        "  second_layer_output.append(signal.correlate2d(first_norm_layer[i], second_layer_kernels, \"valid\"))\n",
        "  second_relu_layer.append(relu(second_layer_output[i]))\n",
        "  second_norm_layer.append(normalize(second_relu_layer[i]))\n",
        "\n",
        "  dense_layer.append(dense_layer2(second_norm_layer[i], 10))\n",
        "  soft_layer.append(softmax(dense_layer[i]))\n",
        "  der.append(soft_layer[i] - one_hot_encode[i])\n",
        "  if soft_layer[i].argmax() == y_train_m[i]:\n",
        "    correct += 1\n",
        "\n",
        "final_der = np.zeros((10))\n",
        "for i in range(batch):\n",
        "  final_der += der[i]\n",
        "\n",
        "array = np.array(second_norm_layer)\n",
        "for i in range(batch):\n",
        "  weight_der += np.dot(array[i].reshape(-1,1), final_der.reshape(1,-1))\n",
        "weights -= learning_rate * weight_der\n",
        "\n",
        "array = np.array(final_der)\n",
        "input_derivatives = np.dot(weights, array.transpose())\n",
        "reshaped_input_derivatives = input_derivatives.reshape(24,24)\n",
        "\n",
        "array = np.array(first_norm_layer)\n",
        "\n",
        "derivative_filters_current_layer, derivative_current_layer_input = backpropagation(reshaped_input_derivatives, array, second_layer_kernels)\n",
        "second_layer_kernels -= learning_rate * derivative_filters_current_layer\n",
        "\n",
        "array = np.array(first_norm_layer)\n",
        "derivative_filters_current_layer, derivative_current_layer_input = backpropagation(derivative_current_layer_input, training_data, first_layer_kernels)\n",
        "first_layer_kernels -= learning_rate * derivative_filters_current_layer"
      ],
      "metadata": {
        "id": "K0Vb3MT5SA9b"
      },
      "execution_count": null,
      "outputs": []
    }
  ]
}
