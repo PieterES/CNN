{
  "cells": [
    {
      "cell_type": "code",
      "execution_count": null,
      "metadata": {
        "colab": {
          "base_uri": "https://localhost:8080/"
        },
        "id": "yn8wdMDvE7Wi",
        "outputId": "9fe390e2-cc79-4a5e-c749-a82880677d9b"
      },
      "outputs": [
        {
          "output_type": "stream",
          "name": "stdout",
          "text": [
            "Downloading data from https://www.cs.toronto.edu/~kriz/cifar-10-python.tar.gz\n",
            "170500096/170498071 [==============================] - 4s 0us/step\n",
            "170508288/170498071 [==============================] - 4s 0us/step\n",
            "Downloading data from https://storage.googleapis.com/tensorflow/tf-keras-datasets/mnist.npz\n",
            "11493376/11490434 [==============================] - 0s 0us/step\n",
            "11501568/11490434 [==============================] - 0s 0us/step\n"
          ]
        }
      ],
      "source": [
        "# Imports and data\n",
        "\n",
        "import numpy as np\n",
        "import math\n",
        "import random\n",
        "import matplotlib.pyplot as plt\n",
        "from tensorflow import keras\n",
        "(x_train_c, y_train_c), (x_test_c, y_test_c) = keras.datasets.cifar10.load_data()\n",
        "(x_train_m, y_train_m), (x_test_m, y_test_m) = keras.datasets.mnist.load_data()"
      ]
    },
    {
      "cell_type": "code",
      "execution_count": null,
      "metadata": {
        "id": "k6kh-FgAkdgW"
      },
      "outputs": [],
      "source": [
        "# Submatrix function that extracts a small submatrix of given size at given position.\n",
        "\n",
        "def submatrix(matrix, startRow, startCol, size):\n",
        "  return matrix[(startRow):(startRow+size), (startCol):(startCol+size)]"
      ]
    },
    {
      "cell_type": "code",
      "execution_count": null,
      "metadata": {
        "id": "C7_EC4x5Fm-F"
      },
      "outputs": [],
      "source": [
        "# Convololution function that takes either a single 2D or 3D image as input_matrix, and either a single kernel or \n",
        "# multiple kernels as input_kernels and returns a stack of feature maps equal to the amount of kernels.\n",
        "\n",
        "\n",
        "def Convolution(input_matrix, input_kernels):\n",
        "\n",
        "# Checks whether a single kernel is used or multiple and changes the values used in the loops and output size accordingly.\n",
        "  if (input_kernels.ndim == 3):\n",
        "    kerneldepth = len(input_kernels)\n",
        "    kernel_size = len(input_kernels[0])\n",
        "  else:\n",
        "    kerneldepth = 1\n",
        "    kernel_size = len(input_kernels)\n",
        "\n",
        "# Checks whether a 2D or 3D image is used and changes the values used in the loops and output size accordingly.\n",
        "  if input_matrix.ndim == 2:\n",
        "    depth = 1\n",
        "    input_height, input_width = input_matrix.shape\n",
        "  else:\n",
        "    input_height, input_width, depth = input_matrix.shape\n",
        "\n",
        "# Creates empty arrays for the outputs\n",
        "  final_output_size = (kerneldepth, input_height - kernel_size + 1, input_width - kernel_size + 1)\n",
        "  final_output = np.zeros(final_output_size)\n",
        "  output_shape = (input_height - kernel_size + 1, input_width - kernel_size + 1)\n",
        "  final_final_output = np.zeros(output_shape)\n",
        "\n",
        "# Loops over all the kernels and the depth of the image\n",
        "  for j in range(kerneldepth):\n",
        "    for i in range(depth):\n",
        "\n",
        "      # Selects kernel and image to be used\n",
        "      output = np.zeros(output_shape)\n",
        "      kernel = input_kernels[j]\n",
        "      if depth == 1:\n",
        "        image = input_matrix\n",
        "      else:\n",
        "          image = input_matrix[:,:,i]\n",
        "      Yimage, Ximage = image.shape\n",
        "      new_image = np.zeros((input_height - kernel_size + 1, input_width - kernel_size + 1))\n",
        "\n",
        "      # Loops over the image, selecting a submatrix and multiplying it with the kernel, adding tha result to the new image\n",
        "      for x in range(Ximage):\n",
        "        for y in range(Yimage):\n",
        "          if (x+kernel_size <= Ximage and y+kernel_size <= Yimage):\n",
        "            sub = submatrix(image, x, y, kernel_size)\n",
        "            mulitply = np.multiply(kernel,sub)\n",
        "            add = np.sum(mulitply)\n",
        "            new_image[x,y] = add\n",
        "      \n",
        "      # Adds the multiple multiple feature maps of the 3D images into a single feature map\n",
        "      output += new_image\n",
        "    final_output[j] = output\n",
        "  if (kerneldepth == 1):\n",
        "    final_output = final_output[0]\n",
        "  return final_output"
      ]
    },
    {
      "cell_type": "code",
      "execution_count": null,
      "metadata": {
        "colab": {
          "base_uri": "https://localhost:8080/",
          "height": 779
        },
        "id": "I8crQVmiGKV_",
        "outputId": "8a1dda5e-eedf-400f-dadf-fd8c611bc3fc"
      },
      "outputs": [
        {
          "output_type": "execute_result",
          "data": {
            "text/plain": [
              "<matplotlib.image.AxesImage at 0x7f47251a3d50>"
            ]
          },
          "metadata": {},
          "execution_count": 132
        },
        {
          "output_type": "display_data",
          "data": {
            "text/plain": [
              "<Figure size 432x288 with 1 Axes>"
            ],
            "image/png": "[encoded data removed]"
          },
          "metadata": {
            "needs_background": "light"
          }
        },
        {
          "output_type": "display_data",
          "data": {
            "text/plain": [
              "<Figure size 432x288 with 1 Axes>"
            ],
            "image/png": "[encoded data removed]"
          },
          "metadata": {
            "needs_background": "light"
          }
        },
        {
          "output_type": "display_data",
          "data": {
            "text/plain": [
              "<Figure size 432x288 with 1 Axes>"
            ],
            "image/png": "[encoded data removed]"
          },
          "metadata": {
            "needs_background": "light"
          }
        }
      ],
      "source": [
        "# Kernels and inputs to show that the convolution function works properly\n",
        "bothkernels = np.array([[[-1,-1,-1], [2,2,2],[-1,-1,-1]],[[-1,2,-1], [-1,2,-1],[-1,2,-1]]])\n",
        "single_kernel = np.array([[-1,2,-1], [-1,2,-1],[-1,2,-1]])\n",
        "\n",
        "min = x_train_m[2]\n",
        "cif = x_train_c[1]\n",
        "\n",
        "# Using the convolution function for both 2D and 3D images and a single kernel and multiple kernels\n",
        "C1cif_singlekernel = Convolution(cif, single_kernel)\n",
        "C1_singlekernel = Convolution(min, single_kernel)\n",
        "\n",
        "C1cif = Convolution(cif, bothkernels)\n",
        "C1 = Convolution(min, bothkernels)\n",
        "\n",
        "# Prints the images of example image from MNIST dataset and the same image convolved with both kernels\n",
        "plt.imshow(min, cmap = \"Greys\")\n",
        "plt.figure()\n",
        "plt.imshow(C1[0], cmap = \"Greys\")\n",
        "plt.figure()\n",
        "plt.imshow(C1[1], cmap = \"Greys\")"
      ]
    },
    {
      "cell_type": "code",
      "execution_count": null,
      "metadata": {
        "colab": {
          "base_uri": "https://localhost:8080/",
          "height": 283
        },
        "id": "kkw7yrDNSmMk",
        "outputId": "28c035cd-0817-4641-ec83-20a476adfe7f"
      },
      "outputs": [
        {
          "output_type": "execute_result",
          "data": {
            "text/plain": [
              "<matplotlib.image.AxesImage at 0x7f47236114d0>"
            ]
          },
          "metadata": {},
          "execution_count": 169
        },
        {
          "output_type": "display_data",
          "data": {
            "text/plain": [
              "<Figure size 432x288 with 1 Axes>"
            ],
            "image/png": "[encoded data removed]"
          },
          "metadata": {
            "needs_background": "light"
          }
        }
      ],
      "source": [
        "# Relu activation function that takes a single feature map as input and ensures that all negative numbers become 0\n",
        "# Returns the non-negative feature map\n",
        "\n",
        "def relu(input_matrix):  \n",
        "  output_shape = (input_matrix.shape[0], input_matrix.shape[1])\n",
        "  output = np.zeros(output_shape)\n",
        "  for i in range(input_matrix.shape[0]):\n",
        "    output[i] = np.maximum(0,input_matrix[i])\n",
        "  return output\n",
        "\n",
        "# Examples to show that the relu function works\n",
        "C1relu = relu(C1[0])\n",
        "plt.imshow(C1relu, cmap = \"Greys\")"
      ]
    },
    {
      "cell_type": "code",
      "execution_count": null,
      "metadata": {
        "colab": {
          "base_uri": "https://localhost:8080/",
          "height": 283
        },
        "id": "zcJV8HbuSnug",
        "outputId": "563237b6-e44b-4c03-964b-58baa9cd9092"
      },
      "outputs": [
        {
          "output_type": "execute_result",
          "data": {
            "text/plain": [
              "<matplotlib.image.AxesImage at 0x7f4723c58990>"
            ]
          },
          "metadata": {},
          "execution_count": 170
        },
        {
          "output_type": "display_data",
          "data": {
            "text/plain": [
              "<Figure size 432x288 with 1 Axes>"
            ],
            "image/png": "[encoded data removed]"
          },
          "metadata": {
            "needs_background": "light"
          }
        }
      ],
      "source": [
        "# Max pool function with a single feature map and the spatial extent of the pooling as input and outputs the maxpooled feature map. \n",
        "# Only works for maxpoolsizes that divide the shape of the input matrix into a whole number.\n",
        "\n",
        "def maxpool(input_matrix, size):\n",
        "  Xmatrix, Ymatrix = input_matrix.shape\n",
        "  output = np.zeros((int(Xmatrix/size), int(Ymatrix/size)))\n",
        "  for x in range(0, Xmatrix, size):\n",
        "    for y in range(0, Ymatrix, size):\n",
        "      output[int(x/size),int(y/size)] = input_matrix[x:x+size, y:y+size].max()\n",
        "  return output\n",
        "\n",
        "# Example of pooling the previous relu activated image with a 2x2 maxpool filter. \n",
        "maxpoolsize = 2\n",
        "C1maxpool = maxpool(C1relu, maxpoolsize)\n",
        "plt.imshow(C1maxpool, cmap = \"Greys\")"
      ]
    },
    {
      "cell_type": "code",
      "execution_count": null,
      "metadata": {
        "id": "wCM-OZyWSsEV",
        "colab": {
          "base_uri": "https://localhost:8080/",
          "height": 963
        },
        "outputId": "2d9a3198-f669-4b92-e0ed-4afdfffe6872"
      },
      "outputs": [
        {
          "output_type": "stream",
          "name": "stdout",
          "text": [
            "[[-0.33322251 -0.33322251 -0.33322251 -0.33322251 -0.33322251 -0.33322251\n",
            "  -0.33322251 -0.33322251 -0.33322251 -0.33322251 -0.33322251 -0.33322251\n",
            "  -0.33322251]\n",
            " [-0.33322251 -0.33322251 -0.33322251 -0.33322251 -0.33322251 -0.33322251\n",
            "  -0.33322251 -0.33322251 -0.33322251 -0.33322251 -0.33322251 -0.33322251\n",
            "  -0.33322251]\n",
            " [-0.33322251 -0.33322251 -0.33322251 -0.33322251 -0.33322251 -0.33322251\n",
            "  -0.33322251 -0.33322251 -0.33322251  1.26397479  1.47300397 -0.12419333\n",
            "  -0.33322251]\n",
            " [-0.33322251  0.15987196  0.15987196 -0.33322251 -0.33322251 -0.33322251\n",
            "  -0.33322251 -0.33322251 -0.33322251 -0.33322251  0.30458447 -0.11347389\n",
            "  -0.33322251]\n",
            " [-0.33322251 -0.33322251 -0.25818639 -0.33322251 -0.33322251 -0.33322251\n",
            "  -0.33322251 -0.33322251  0.42249836  0.59400948 -0.16171139 -0.33322251\n",
            "  -0.33322251]\n",
            " [-0.12419333  0.13307335 -0.05451694 -0.33322251 -0.33322251 -0.33322251\n",
            "  -0.33322251 -0.33322251 -0.33322251  0.5511317   0.14915251 -0.33322251\n",
            "  -0.33322251]\n",
            " [-0.28498501 -0.27962528 -0.33322251 -0.33322251 -0.33322251  0.37426086\n",
            "   4.07246937  5.42311944  2.50743041 -0.22602806 -0.33322251 -0.33322251\n",
            "  -0.33322251]\n",
            " [ 0.42249836  2.27160262  3.34354711  3.71872769  4.87106802  5.16049303\n",
            "   3.02732349 -0.33322251  0.22418863  0.06339695 -0.33322251 -0.33322251\n",
            "  -0.33322251]\n",
            " [-0.33322251 -0.33322251 -0.33322251 -0.33322251 -0.33322251 -0.33322251\n",
            "  -0.33322251  0.0258789   0.0258789  -0.33322251 -0.33322251 -0.33322251\n",
            "  -0.33322251]\n",
            " [-0.33322251 -0.33322251 -0.33322251 -0.33322251 -0.33322251 -0.33322251\n",
            "  -0.33322251 -0.33322251 -0.13491278 -0.13491278 -0.33322251 -0.33322251\n",
            "  -0.33322251]\n",
            " [-0.33322251 -0.33322251 -0.33322251 -0.33322251 -0.33322251 -0.33322251\n",
            "  -0.33322251 -0.33322251 -0.03307805 -0.02771833 -0.33322251 -0.33322251\n",
            "  -0.33322251]\n",
            " [-0.33322251 -0.33322251 -0.33322251 -0.33322251 -0.33322251 -0.33322251\n",
            "  -0.33322251  0.05803723  1.96609844  1.84282482 -0.33322251 -0.33322251\n",
            "  -0.33322251]\n",
            " [-0.33322251 -0.33322251 -0.33322251 -0.33322251 -0.33322251 -0.33322251\n",
            "  -0.33322251 -0.33322251 -0.33322251 -0.33322251 -0.33322251 -0.33322251\n",
            "  -0.33322251]]\n"
          ]
        },
        {
          "output_type": "display_data",
          "data": {
            "text/plain": [
              "<Figure size 432x288 with 1 Axes>"
            ],
            "image/png": "[encoded data removed]"
          },
          "metadata": {
            "needs_background": "light"
          }
        }
      ],
      "source": [
        "# Normalise function that takes a single feature map as input and outputs the normalised feature map. \n",
        "\n",
        "def normalize(input_matrix):\n",
        "  matrix = input_matrix\n",
        "  matrix = matrix - matrix.mean()\n",
        "  output = matrix/matrix.std()\n",
        "  return output\n",
        "\n",
        "# To show that the function works, the normalised image is printed. This shows that the function works as there are now negative numbers. \n",
        "# The image remains the same as the values remain the same relatively to each other.\n",
        "C1norm = normalize(C1maxpool)\n",
        "plt.imshow(C1norm, cmap = \"Greys\")\n",
        "print(C1norm)"
      ]
    },
    {
      "cell_type": "code",
      "execution_count": null,
      "metadata": {
        "colab": {
          "base_uri": "https://localhost:8080/"
        },
        "id": "mB0d8Ow3SzG7",
        "outputId": "1903f27c-63f9-412b-e214-cd4abd4b5307"
      },
      "outputs": [
        {
          "output_type": "stream",
          "name": "stdout",
          "text": [
            "(169, 10)\n",
            "[-3.02457798e-01 -2.46998412e-01  4.13421195e-05 -7.47589564e-02\n",
            "  3.44841090e-01 -2.43726888e-01  7.54861562e-01 -1.48951391e-01\n",
            "  3.42860474e-01  5.53625357e-01]\n"
          ]
        }
      ],
      "source": [
        "# Fully-connected layer that takes a single matrix and output size as inputs, and outputs the weights and a final layer\n",
        "\n",
        "def dense_layer(matrix, outputsize):\n",
        "  flat = matrix.flatten()\n",
        "  weights = np.zeros((flat.size, outputsize))\n",
        "  layer = np.zeros((outputsize))\n",
        "\n",
        "  # Gives all the weights a random value between 0.1 and 0.2\n",
        "  for x in range(flat.size):\n",
        "    for y in range(outputsize):\n",
        "      weights[x,y] = random.uniform(0.1, 0.2)\n",
        "  \n",
        "  # Takes the dot product of the weights and the flattened input matrix\n",
        "  for i in range(outputsize):\n",
        "    layer[i] = np.dot(weights[:, i], flat)\n",
        "    \n",
        "  return weights, layer\n",
        "\n",
        "outputsize = 10\n",
        "C1weights, C1layer = dense_layer(C1norm, outputsize)\n",
        "\n",
        "# Some prints to show that the weights and dense layer have the correct size and outputs\n",
        "print(C1weights.shape)\n",
        "print(C1layer)"
      ]
    },
    {
      "cell_type": "code",
      "execution_count": null,
      "metadata": {
        "colab": {
          "base_uri": "https://localhost:8080/"
        },
        "id": "Audum7maS0Hr",
        "outputId": "1a32dd2b-c5e3-4db0-a961-e87bfbdb566f"
      },
      "outputs": [
        {
          "output_type": "stream",
          "name": "stdout",
          "text": [
            "[0.06272775 0.06630486 0.08488547 0.07876767 0.11983344 0.06652214\n",
            " 0.18057085 0.07313523 0.11959633 0.14765626]\n",
            "0.18057084858666347\n",
            "1.0000000000000002\n",
            "6\n"
          ]
        }
      ],
      "source": [
        "# Softmax function that takes the output from the dense layer and returns the probabilities. \n",
        "# Converts the activation of the dense layer into probabilities \n",
        "\n",
        "def softmax(layer):\n",
        "  soft = np.exp(layer)/sum(np.exp(layer))\n",
        "  return soft\n",
        "\n",
        "# Some prints to show that the softmax functionw works. All probabilities add up to 1.\n",
        "# We can select the highest probability and therefor have a prediction using the argmax function.\n",
        "C1soft = softmax(C1layer)\n",
        "print(C1soft)\n",
        "print(sum(C1soft))\n",
        "print(C1soft.max())\n",
        "print(C1soft.argmax())"
      ]
    }
  ],
  "metadata": {
    "colab": {
      "collapsed_sections": [],
      "provenance": []
    },
    "kernelspec": {
      "display_name": "Python 3",
      "name": "python3"
    },
    "language_info": {
      "name": "python"
    }
  },
  "nbformat": 4,
  "nbformat_minor": 0
}
